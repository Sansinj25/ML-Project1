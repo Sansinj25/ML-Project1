{
 "cells": [
  {
   "cell_type": "markdown",
   "metadata": {
    "collapsed": true
   },
   "source": [
    "Project 1"
   ]
  },
  {
   "cell_type": "code",
   "execution_count": 2,
   "metadata": {},
   "outputs": [],
   "source": [
    "%matplotlib inline\n",
    "import numpy as np\n",
    "import matplotlib.pyplot as plt\n",
    "%load_ext autoreload\n",
    "%autoreload 2\n",
    "from proj1_helpers import *\n",
    "from implementations import *\n",
    "from plots import *\n",
    "#TODO\n",
    "# Cleaning data.\n",
    "# Cross validation in order to reduce overfitting assuming that the data sample are iid.\n",
    "# Polynomial + ridge regression to find optimal complexity."
   ]
  },
  {
   "cell_type": "code",
   "execution_count": 3,
   "metadata": {},
   "outputs": [],
   "source": [
    "# load training dataset\n",
    "yb, input_data, ids = load_csv_data('train.csv')\n",
    "\n",
    "# load test dataset\n",
    "yb_te, te_data, ids_te = load_csv_data('../../test.csv')"
   ]
  },
  {
   "cell_type": "markdown",
   "metadata": {},
   "source": [
    "Least_squares"
   ]
  },
  {
   "cell_type": "code",
   "execution_count": 9,
   "metadata": {
    "collapsed": true
   },
   "outputs": [],
   "source": [
    "weights, loss=least_squares(yb,input_data)\n",
    "y_pred = predict_labels(weights, te_data)\n",
    "create_csv_submission(ids_te, y_pred, 'prediction')"
   ]
  },
  {
   "cell_type": "code",
   "execution_count": null,
   "metadata": {},
   "outputs": [],
   "source": []
  },
  {
   "cell_type": "markdown",
   "metadata": {
    "collapsed": true
   },
   "source": [
    "Ridge regression"
   ]
  },
  {
   "cell_type": "code",
   "execution_count": 38,
   "metadata": {},
   "outputs": [
    {
     "name": "stdout",
     "output_type": "stream",
     "text": [
      "degree=1, lambda=0.000, Training RMSE=0.824, Testing RMSE=1.395\n",
      "degree=1, lambda=0.000, Training RMSE=0.824, Testing RMSE=1.395\n",
      "degree=1, lambda=0.001, Training RMSE=0.824, Testing RMSE=1.394\n",
      "degree=1, lambda=0.016, Training RMSE=0.825, Testing RMSE=1.389\n",
      "degree=1, lambda=0.193, Training RMSE=0.835, Testing RMSE=1.380\n",
      "degree=1, lambda=2.276, Training RMSE=0.843, Testing RMSE=1.377\n",
      "degree=1, lambda=26.827, Training RMSE=0.846, Testing RMSE=1.372\n",
      "degree=1, lambda=316.228, Training RMSE=0.859, Testing RMSE=1.351\n",
      "degree=1, lambda=3727.594, Training RMSE=0.892, Testing RMSE=1.326\n",
      "degree=1, lambda=43939.706, Training RMSE=0.913, Testing RMSE=1.300\n",
      "degree=1, lambda=517947.468, Training RMSE=0.933, Testing RMSE=1.252\n",
      "degree=1, lambda=6105402.297, Training RMSE=0.966, Testing RMSE=1.093\n",
      "degree=1, lambda=71968567.300, Training RMSE=0.995, Testing RMSE=1.011\n",
      "degree=1, lambda=848342898.244, Training RMSE=1.000, Testing RMSE=1.001\n",
      "degree=1, lambda=10000000000.000, Training RMSE=1.000, Testing RMSE=1.000\n"
     ]
    },
    {
     "data": {
      "image/png": "[encoded data removed]",
      "text/plain": [
       "<matplotlib.figure.Figure at 0x1695ec748>"
      ]
     },
     "metadata": {},
     "output_type": "display_data"
    }
   ],
   "source": [
    "lambdas = np.logspace(-5, 10, 15)    \n",
    "#x_tr_poly=build_poly(input_data,degree)                  #build poly base for both training and test x data\n",
    "#x_poly=build_poly(x,degree)\n",
    "#x_te_poly=build_poly(te_data,degree)    \n",
    "\n",
    "rmse_tr = []\n",
    "rmse_te = []\n",
    "for ind, lambda_ in enumerate(lambdas):\n",
    "    weights_train,loss_mse_train=ridge_regression(yb,input_data,lambda_)     # ridge regression for training data\n",
    "    #print(y_test.shape)\n",
    "    #loss_mse_train=compute_mse_regularization(y_train,x_train_poly,weights_train,lambda_) #find mse for training data\n",
    "    #print((2*loss_mse_train)**(1/2))\n",
    "    loss_mse_test=compute_mse(yb_te,te_data,weights_train)    #mse for test data using ls weight of training data\n",
    "    rmse_tr.append(np.power(2*loss_mse_train,(1/2)))\n",
    "    rmse_te.append(np.power(2*loss_mse_test,(1/2)))\n",
    "    print(\"degree={d}, lambda={l:.3f}, Training RMSE={tr:.3f}, Testing RMSE={te:.3f}\".format(\n",
    "        d=degree, l=lambda_, tr=rmse_tr[ind], te=rmse_te[ind]))\n",
    "        \n",
    "# Plot the obtained results\n",
    "plot_train_test(rmse_tr, rmse_te, lambdas, degree)"
   ]
  },
  {
   "cell_type": "code",
   "execution_count": null,
   "metadata": {
    "collapsed": true
   },
   "outputs": [],
   "source": []
  }
 ],
 "metadata": {
  "kernelspec": {
   "display_name": "Python 3",
   "language": "python",
   "name": "python3"
  },
  "language_info": {
   "codemirror_mode": {
    "name": "ipython",
    "version": 3
   },
   "file_extension": ".py",
   "mimetype": "text/x-python",
   "name": "python",
   "nbconvert_exporter": "python",
   "pygments_lexer": "ipython3",
   "version": "3.6.1"
  }
 },
 "nbformat": 4,
 "nbformat_minor": 2
}
