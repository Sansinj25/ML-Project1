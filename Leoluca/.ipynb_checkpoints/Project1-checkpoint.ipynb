{
 "cells": [
  {
   "cell_type": "markdown",
   "metadata": {
    "collapsed": true
   },
   "source": [
    "# Project 1"
   ]
  },
  {
   "cell_type": "markdown",
   "metadata": {},
   "source": [
    "### Load data"
   ]
  },
  {
   "cell_type": "code",
   "execution_count": 41,
   "metadata": {},
   "outputs": [
    {
     "name": "stdout",
     "output_type": "stream",
     "text": [
      "The autoreload extension is already loaded. To reload it, use:\n",
      "  %reload_ext autoreload\n"
     ]
    }
   ],
   "source": [
    "%matplotlib inline\n",
    "import numpy as np\n",
    "import matplotlib.pyplot as plt\n",
    "%load_ext autoreload\n",
    "%autoreload 2\n",
    "from proj1_helpers import *\n",
    "from implementations import *\n",
    "from plots import *\n",
    "from costs import *\n",
    "from plots import visualization\n",
    "#TODO\n",
    "# Cleaning data.\n",
    "# Cross validation in order to reduce overfitting assuming that the data sample are iid.\n",
    "# Polynomial + ridge regression to find optimal complexity.\n",
    "# try each column at different degree to see which has more impact"
   ]
  },
  {
   "cell_type": "code",
   "execution_count": 42,
   "metadata": {
    "collapsed": true
   },
   "outputs": [],
   "source": [
    "# load training dataset\n",
    "yb, x, ids = load_csv_data('train.csv')\n",
    "\n",
    "# load test dataset\n",
    "yb_te, x_te, ids_te = load_csv_data('../../test.csv')"
   ]
  },
  {
   "cell_type": "markdown",
   "metadata": {},
   "source": [
    "# Data cleaning"
   ]
  },
  {
   "cell_type": "code",
   "execution_count": null,
   "metadata": {},
   "outputs": [],
   "source": []
  },
  {
   "cell_type": "markdown",
   "metadata": {},
   "source": [
    "##### If we just remove the columns with -999, we get 0.72485 (least squares). Number of right predictions is lower than without doing it"
   ]
  },
  {
   "cell_type": "code",
   "execution_count": 303,
   "metadata": {},
   "outputs": [
    {
     "name": "stdout",
     "output_type": "stream",
     "text": [
      "(568238, 30)\n",
      "(250000, 30)\n",
      "(250000, 19)\n",
      "(568238, 19)\n"
     ]
    }
   ],
   "source": [
    "ind_to_del=[]\n",
    "print(x_te.shape)\n",
    "print(x.shape)\n",
    "for i in range(x.shape[1]):\n",
    "    if -999 in x[:,i]:\n",
    "        ind_to_del.append(i)\n",
    "x_clean=np.delete(x,ind_to_del,axis=1)\n",
    "x_te_clean=np.delete(x_te,ind_to_del,axis=1)\n",
    "print(x_clean.shape)\n",
    "print(x_te_clean.shape)\n",
    "#x[:,1].index(-999)\n",
    "#ind_to_remove=np.f"
   ]
  },
  {
   "cell_type": "markdown",
   "metadata": {},
   "source": [
    "##### Change values -999 to other values. Number of right predictions is still lower"
   ]
  },
  {
   "cell_type": "code",
   "execution_count": 299,
   "metadata": {},
   "outputs": [
    {
     "name": "stdout",
     "output_type": "stream",
     "text": [
      "[[ 138.47    51.655   97.827 ...,    1.24    -2.475  113.497]\n",
      " [ 160.937   68.768  103.235 ..., -999.    -999.      46.226]\n",
      " [-999.     162.172  125.953 ..., -999.    -999.      44.251]\n",
      " ..., \n",
      " [ 105.457   60.526   75.839 ..., -999.    -999.      41.992]\n",
      " [  94.951   19.362   68.812 ..., -999.    -999.       0.   ]\n",
      " [-999.      72.756   70.831 ..., -999.    -999.       0.   ]]\n"
     ]
    }
   ],
   "source": []
  },
  {
   "cell_type": "code",
   "execution_count": 33,
   "metadata": {
    "collapsed": true
   },
   "outputs": [],
   "source": [
    "ind_999=[]\n",
    "ind_9992=[]\n",
    "x_clean=x.copy()\n",
    "x_te_clean=x_te.copy()\n",
    "for i in range(x_clean.shape[1]):\n",
    "    if -999 in x_clean[:,i]:\n",
    "        ind_999.append(i)\n",
    "        ind_bad=[]\n",
    "        ind_good=[]\n",
    "        for j in range (x_clean.shape[0]):\n",
    "            if x_clean[j,i]==-999:               \n",
    "                ind_bad.append(j)\n",
    "            else:\n",
    "                ind_good.append(j)\n",
    "        mean_good=np.mean(x_clean[ind_good,i])\n",
    "        #x_clean[ind_bad,i]=0\n",
    "        #x_clean[ind_bad,i]=np.NaN\n",
    "        x_clean[ind_bad,i]=mean_good\n",
    "    \n",
    "    if -999 in x_te_clean[:,i]:\n",
    "        ind_9992.append(i)\n",
    "        ind_bad=[]\n",
    "        ind_good=[]\n",
    "        for j in range (x_te_clean.shape[0]):\n",
    "            if x_te_clean[j,i]==-999:               \n",
    "                ind_bad.append(j)\n",
    "            else:\n",
    "                ind_good.append(j)\n",
    "        mean_good=np.mean(x_te_clean[ind_good,i])\n",
    "        #x_te_clean[ind_bad,i]=0\n",
    "        #x_te_clean[ind_bad,i]=np.NaN\n",
    "        x_te_clean[ind_bad,i]=mean_good\n",
    "\n",
    "            "
   ]
  },
  {
   "cell_type": "markdown",
   "metadata": {},
   "source": [
    "##### Normalization"
   ]
  },
  {
   "cell_type": "code",
   "execution_count": 45,
   "metadata": {},
   "outputs": [],
   "source": [
    "x_clean=x.copy()\n",
    "x_te_clean=x_te.copy()\n",
    "for i in range(x.shape[1]):\n",
    "    magn=np.power(sum(x[:,i]**2),1/2)\n",
    "    magn_te=np.power(sum(x[:,i]**2),1/2)\n",
    "    x_clean[:,i]=x_clean[:,i]/magn\n",
    "    x_te_clean[:,i]=x_te_clean[:,i]/magn_te\n",
    "\n",
    "    \n"
   ]
  },
  {
   "cell_type": "code",
   "execution_count": 35,
   "metadata": {},
   "outputs": [
    {
     "name": "stdout",
     "output_type": "stream",
     "text": [
      "186082\n",
      "185145\n",
      "0.339686809477\n",
      "0.343815196752\n"
     ]
    }
   ],
   "source": [
    "w, loss=least_squares(yb,x)\n",
    "w_clean, loss_clean=least_squares(yb,x_clean)\n",
    "y_pred = predict_labels(w,x)\n",
    "y_pred_clean = predict_labels(w_clean,x_clean)\n",
    "\n",
    "right_pred=0\n",
    "right_pred_clean=0\n",
    "for i in range(yb.shape[0]):\n",
    "    if y_pred[i]==yb[i]:\n",
    "        right_pred=right_pred+1\n",
    "    if y_pred_clean[i]==yb[i]:\n",
    "        right_pred_clean=right_pred_clean+1\n",
    "print(right_pred)\n",
    "print(right_pred_clean)\n",
    "print(loss)\n",
    "print(loss_clean)"
   ]
  },
  {
   "cell_type": "code",
   "execution_count": 31,
   "metadata": {
    "collapsed": true
   },
   "outputs": [],
   "source": [
    "weights, loss=least_squares(yb,x_clean)\n",
    "y_pred = predict_labels(weights, x_te_clean)\n",
    "create_csv_submission(ids_te, y_pred, 'prediction')"
   ]
  },
  {
   "cell_type": "markdown",
   "metadata": {},
   "source": [
    "# Least_squares. We get 0.74463"
   ]
  },
  {
   "cell_type": "code",
   "execution_count": 316,
   "metadata": {
    "collapsed": true
   },
   "outputs": [],
   "source": [
    "weights, loss=least_squares(yb,x)\n",
    "y_pred = predict_labels(weights, x_te)\n",
    "create_csv_submission(ids_te, y_pred, 'prediction')"
   ]
  },
  {
   "cell_type": "code",
   "execution_count": 1,
   "metadata": {},
   "outputs": [
    {
     "name": "stdout",
     "output_type": "stream",
     "text": [
      "hi\n"
     ]
    }
   ],
   "source": [
    "print('hi')"
   ]
  },
  {
   "cell_type": "markdown",
   "metadata": {},
   "source": [
    "# Logistic regression"
   ]
  },
  {
   "cell_type": "code",
   "execution_count": 20,
   "metadata": {},
   "outputs": [
    {
     "name": "stdout",
     "output_type": "stream",
     "text": [
      "[[ 0.5]\n",
      " [ 0.5]\n",
      " [ 0.5]\n",
      " ..., \n",
      " [ 0.5]\n",
      " [ 0.5]\n",
      " [ 0.5]]\n"
     ]
    }
   ],
   "source": [
    "w = np.zeros((x.shape[1], 1))\n",
    "sigm=sigmoid(x.dot(w))\n",
    "s=np.zeros((sigm.shape[0]))\n",
    "print(sigm)\n",
    "for i in range(sigm.shape[0]):\n",
    "    sigm[i]=sigm[i]-yb[i]\n",
    "    \n",
    "#gradient=x.T.dot(sigm-yb)"
   ]
  },
  {
   "cell_type": "code",
   "execution_count": 59,
   "metadata": {
    "scrolled": true
   },
   "outputs": [
    {
     "name": "stdout",
     "output_type": "stream",
     "text": [
      "Current iteration=0, loss=173286.79514001933\n"
     ]
    },
    {
     "name": "stderr",
     "output_type": "stream",
     "text": [
      "/anaconda/lib/python3.6/site-packages/ipykernel_launcher.py:3: RuntimeWarning: overflow encountered in exp\n",
      "  This is separate from the ipykernel package so we can avoid doing imports until\n",
      "/anaconda/lib/python3.6/site-packages/ipykernel_launcher.py:4: RuntimeWarning: divide by zero encountered in log\n",
      "  after removing the cwd from sys.path.\n"
     ]
    },
    {
     "name": "stdout",
     "output_type": "stream",
     "text": [
      "loss=nan\n"
     ]
    }
   ],
   "source": [
    "losses=logistic_regression_gradient_descent_demo(yb,x_clean)"
   ]
  },
  {
   "cell_type": "code",
   "execution_count": 60,
   "metadata": {},
   "outputs": [
    {
     "name": "stdout",
     "output_type": "stream",
     "text": [
      "[array(173286.79514001933), array(nan), array(nan), array(nan), array(nan), array(nan), array(nan), array(nan), array(nan), array(nan)]\n"
     ]
    }
   ],
   "source": [
    "print(losses)"
   ]
  },
  {
   "cell_type": "code",
   "execution_count": 54,
   "metadata": {
    "collapsed": true
   },
   "outputs": [],
   "source": [
    "def sigmoid(t):\n",
    "    \"\"\"apply sigmoid function on t.\"\"\"\n",
    "    return 1.0 / (1 + np.exp(-t))"
   ]
  },
  {
   "cell_type": "code",
   "execution_count": 55,
   "metadata": {
    "collapsed": true
   },
   "outputs": [],
   "source": [
    "def calculate_loss(y, tx, w):\n",
    "    \"\"\"compute the cost by negative log likelihood.\"\"\"\n",
    "    pred = sigmoid(tx.dot(w))\n",
    "    loss = y.T.dot(np.log(pred)) + (1 - y).T.dot(np.log(1 - pred))\n",
    "    return np.squeeze(- loss)\n",
    "    "
   ]
  },
  {
   "cell_type": "code",
   "execution_count": 56,
   "metadata": {
    "collapsed": true
   },
   "outputs": [],
   "source": [
    "def calculate_gradient(y, tx, w):\n",
    "    \"\"\"compute the gradient of loss.\"\"\"\n",
    "    sigm=sigmoid(tx.dot(w))\n",
    "    for i in range(sigm.shape[0]):\n",
    "        sigm[i]=sigm[i]-yb[i]\n",
    "    gradient=tx.T.dot(sigm)\n",
    "    return gradient"
   ]
  },
  {
   "cell_type": "code",
   "execution_count": null,
   "metadata": {
    "collapsed": true
   },
   "outputs": [],
   "source": [
    "def logistic_regression(y, tx, w):\n",
    "    \"\"\"return the loss, gradient, and hessian.\"\"\"\n",
    "    loss = calculate_loss(y, tx, w)\n",
    "    gradient = calculate_gradient(y, tx, w)\n",
    "    hessian = calculate_hessian(y, tx, w)\n",
    "    return loss, gradient, hessian"
   ]
  },
  {
   "cell_type": "code",
   "execution_count": null,
   "metadata": {
    "collapsed": true
   },
   "outputs": [],
   "source": [
    "def learning_by_newton_method(y, tx, w):\n",
    "    \"\"\"\n",
    "    Do one step on Newton's method.\n",
    "    return the loss and updated w.\n",
    "    \"\"\"\n",
    "    loss, gradient, hessian = logistic_regression(y, tx, w)\n",
    "    w -= np.linalg.solve(hessian, gradient)\n",
    "    return loss, w"
   ]
  },
  {
   "cell_type": "code",
   "execution_count": null,
   "metadata": {
    "collapsed": true
   },
   "outputs": [],
   "source": [
    "def logistic_regression_newton_method_demo(y, x):\n",
    "    # init parameters\n",
    "    max_iter = 10\n",
    "    threshold = 1e-8\n",
    "    lambda_ = 0.1\n",
    "    losses = []\n",
    "\n",
    "    # build tx\n",
    "    tx = np.c_[np.ones((y.shape[0], 1)), x]\n",
    "    w = np.zeros((tx.shape[1], 1))\n",
    "\n",
    "    # start the logistic regression\n",
    "    for iter in range(max_iter):\n",
    "        # get loss and update w.\n",
    "        loss, w = learning_by_newton_method(y, tx, w)\n",
    "        # log info\n",
    "        if iter % 1 == 0:\n",
    "            print(\"Current iteration={i}, the loss={l}\".format(i=iter, l=loss))\n",
    "        # converge criterion\n",
    "        losses.append(loss)\n",
    "        if len(losses) > 1 and np.abs(losses[-1] - losses[-2]) < threshold:\n",
    "            break\n",
    "    # visualization\n",
    "    #visualization(y, x, mean_x, std_x, w, \"classification_by_logistic_regression_newton_method\")\n",
    "    print(\"loss={l}\".format(l=calculate_loss(y, tx, w)))\n",
    "    return losses\n"
   ]
  },
  {
   "cell_type": "code",
   "execution_count": 57,
   "metadata": {
    "collapsed": true
   },
   "outputs": [],
   "source": [
    "def learning_by_gradient_descent(y, tx, w, gamma):\n",
    "    \"\"\"\n",
    "    Do one step of gradient descen using logistic regression.\n",
    "    Return the loss and the updated w.\n",
    "    \"\"\"\n",
    "    loss = calculate_loss(y, tx, w)\n",
    "    grad = calculate_gradient(y, tx, w)\n",
    "    w -= gamma * grad\n",
    "    return loss, w"
   ]
  },
  {
   "cell_type": "code",
   "execution_count": 58,
   "metadata": {
    "collapsed": true
   },
   "outputs": [],
   "source": [
    "def logistic_regression_gradient_descent_demo(y, x):\n",
    "    # init parameters\n",
    "    max_iter = 10\n",
    "    threshold = 1e-8\n",
    "    gamma = 0.01\n",
    "    losses = []\n",
    "\n",
    "    # build tx\n",
    "    tx = np.c_[np.ones((y.shape[0], 1)), x]\n",
    "    w = np.zeros((tx.shape[1], 1))\n",
    "\n",
    "    # start the logistic regression\n",
    "    for iter in range(max_iter):\n",
    "        # get loss and update w.\n",
    "        loss, w = learning_by_gradient_descent(y, tx, w, gamma)\n",
    "        # log info\n",
    "        if iter % 100 == 0:\n",
    "            print(\"Current iteration={i}, loss={l}\".format(i=iter, l=loss))\n",
    "        # converge criterion\n",
    "        losses.append(loss)\n",
    "        if len(losses) > 1 and np.abs(losses[-1] - losses[-2]) < threshold:\n",
    "            break\n",
    "    # visualization\n",
    "    #visualization(y, x, mean_x, std_x, w, \"classification_by_logistic_regression_gradient_descent\")\n",
    "    print(\"loss={l}\".format(l=calculate_loss(y, tx, w)))\n",
    "    return losses"
   ]
  },
  {
   "cell_type": "code",
   "execution_count": null,
   "metadata": {
    "collapsed": true
   },
   "outputs": [],
   "source": []
  },
  {
   "cell_type": "code",
   "execution_count": null,
   "metadata": {
    "collapsed": true
   },
   "outputs": [],
   "source": []
  },
  {
   "cell_type": "code",
   "execution_count": null,
   "metadata": {
    "collapsed": true
   },
   "outputs": [],
   "source": []
  },
  {
   "cell_type": "code",
   "execution_count": null,
   "metadata": {
    "collapsed": true
   },
   "outputs": [],
   "source": []
  },
  {
   "cell_type": "code",
   "execution_count": null,
   "metadata": {
    "collapsed": true
   },
   "outputs": [],
   "source": []
  },
  {
   "cell_type": "markdown",
   "metadata": {},
   "source": [
    "# Polynomial base, prediction give 0.66. Not very good, maybe works wrong too"
   ]
  },
  {
   "cell_type": "code",
   "execution_count": 318,
   "metadata": {
    "collapsed": true
   },
   "outputs": [],
   "source": [
    "def build_polynomial_3d(x, degree):\n",
    "    matrix_poly = np.zeros((x.shape[0],x.shape[1], degree+1))\n",
    "    for i in range(x.shape[1]):\n",
    "        matrix_poly[:,i,:]=build_poly(x[:,i],degree)\n",
    "    \n",
    "    #x_poly=build_poly(x[:,1],degree)    \n",
    "    \n",
    "    return matrix_poly"
   ]
  },
  {
   "cell_type": "code",
   "execution_count": 319,
   "metadata": {
    "collapsed": true
   },
   "outputs": [],
   "source": [
    "def predict_y_from_3d_poly(x,w):\n",
    "    y_pred=np.zeros((x.shape[0]))\n",
    "    for j in range(x.shape[1]):\n",
    "        y_pred=y_pred+x[:,j,:].dot(w[j,:])\n",
    "    y_pred=y_pred/x.shape[1]\n",
    "    y_pred[np.where(y_pred <= 0)] = -1\n",
    "    y_pred[np.where(y_pred > 0)] = 1\n",
    "    \n",
    "    return y_pred"
   ]
  },
  {
   "cell_type": "code",
   "execution_count": 6,
   "metadata": {},
   "outputs": [
    {
     "name": "stdout",
     "output_type": "stream",
     "text": [
      "0\n",
      "1\n",
      "2\n",
      "3\n",
      "4\n",
      "5\n",
      "6\n",
      "7\n",
      "8\n",
      "9\n",
      "10\n",
      "11\n",
      "12\n"
     ]
    },
    {
     "data": {
      "text/plain": [
       "[<matplotlib.lines.Line2D at 0x110cb6d68>]"
      ]
     },
     "execution_count": 6,
     "metadata": {},
     "output_type": "execute_result"
    },
    {
     "data": {
      "image/png": "[encoded data removed]",
      "text/plain": [
       "<matplotlib.figure.Figure at 0x11099f278>"
      ]
     },
     "metadata": {},
     "output_type": "display_data"
    }
   ],
   "source": [
    "deg_range=13\n",
    "loss=np.zeros((deg_range))\n",
    "loss_te=np.zeros((deg_range))\n",
    "\n",
    "for i in range(deg_range):\n",
    "    print(i)\n",
    "    matrix_poly=build_polynomial_3d(x,i+1)\n",
    "    matrix_poly_te=build_polynomial_3d(x_te,i+1)\n",
    "    weights=least_squares_3d(yb,matrix_poly)\n",
    "    y_pred=predict_y_from_3d_poly(matrix_poly,weights)\n",
    "    y_pred_te=predict_y_from_3d_poly(matrix_poly_te,weights)\n",
    "    loss_te[i]=compute_mse_3d(yb_te,y_pred_te)\n",
    "    loss[i]=compute_mse_3d(yb,y_pred)\n",
    "plt.plot(loss_te)"
   ]
  },
  {
   "cell_type": "code",
   "execution_count": 320,
   "metadata": {
    "collapsed": true
   },
   "outputs": [],
   "source": [
    "matrix_poly=build_polynomial_3d(x,11)\n",
    "matrix_poly_te=build_polynomial_3d(x_te,11)\n",
    "weights=least_squares_3d(yb,matrix_poly)\n",
    "y_pred_te=predict_y_from_3d_poly(matrix_poly_te,weights)\n",
    "create_csv_submission(ids_te, y_pred_te, 'prediction')"
   ]
  },
  {
   "cell_type": "code",
   "execution_count": 322,
   "metadata": {},
   "outputs": [
    {
     "name": "stdout",
     "output_type": "stream",
     "text": [
      "184800\n",
      "164249\n"
     ]
    }
   ],
   "source": []
  },
  {
   "cell_type": "markdown",
   "metadata": {},
   "source": [
    "### Stuff"
   ]
  },
  {
   "cell_type": "code",
   "execution_count": 116,
   "metadata": {},
   "outputs": [
    {
     "name": "stdout",
     "output_type": "stream",
     "text": [
      "(250000,)\n",
      "(250000, 30, 4)\n",
      "(30, 4)\n"
     ]
    }
   ],
   "source": [
    "\n",
    "y_pred=np.zeros((x.shape[0]))\n",
    "print(y_pred.shape)\n",
    "print(matrix_poly.shape)\n",
    "print(weights.shape)\n",
    "for i in range(x.shape[0]):\n",
    "    for j in range(x.shape[1]):\n",
    "        y_pred[i]=y_pred[i]+matrix_poly[i,j,:].dot(weights[j,:])\n",
    "        \n",
    "loss=    \n",
    "#loss=compute_mse_3d(yb,matrix_poly,weights)"
   ]
  },
  {
   "cell_type": "markdown",
   "metadata": {},
   "source": [
    "# Cross validation"
   ]
  },
  {
   "cell_type": "code",
   "execution_count": 121,
   "metadata": {
    "collapsed": true
   },
   "outputs": [],
   "source": [
    "def build_k_indices(y, k_fold, seed):\n",
    "    \"\"\"build k indices for k-fold.\"\"\"\n",
    "    num_row = y.shape[0]\n",
    "    interval = int(num_row / k_fold)\n",
    "    np.random.seed(seed)\n",
    "    indices = np.random.permutation(num_row)\n",
    "    k_indices = [indices[k * interval: (k + 1) * interval]\n",
    "                 for k in range(k_fold)]\n",
    "    return np.array(k_indices)"
   ]
  },
  {
   "cell_type": "code",
   "execution_count": 136,
   "metadata": {
    "collapsed": true
   },
   "outputs": [],
   "source": [
    "def cross_validation(y, x, k_indices, k, lambda_, degree):\n",
    "    \"\"\"return the loss of ridge regression.\"\"\"\n",
    "    y_te=y[k_indices[k]]\n",
    "    x_te=x[k_indices[k]]\n",
    "    y_tr=y\n",
    "    x_tr=x\n",
    "    y_tr=np.delete(y,k_indices[k],axis=0)\n",
    "    x_tr=np.delete(x,k_indices[k],axis=0)\n",
    "    \n",
    "    #x_te_poly=build_poly(x_te,degree)\n",
    "    #x_tr_poly=build_poly(x_tr,degree)\n",
    "    #w_tr,loss_tr=ridge_regression(y_tr, x_tr,lambda_)\n",
    "    w_tr,loss_tr=least_squares(y_tr, x_tr)\n",
    "\n",
    "    loss_te=compute_mse(y_te,x_te,w_tr)\n",
    "    \n",
    "    #return loss_tr, loss_te\n",
    "    return loss_tr, loss_te,w_tr"
   ]
  },
  {
   "cell_type": "code",
   "execution_count": 135,
   "metadata": {},
   "outputs": [
    {
     "data": {
      "image/png": "[encoded data removed]",
      "text/plain": [
       "<matplotlib.figure.Figure at 0x162785c18>"
      ]
     },
     "metadata": {},
     "output_type": "display_data"
    }
   ],
   "source": [
    "seed = 1\n",
    "degree = 7\n",
    "k_fold = 20\n",
    "lambdas = np.logspace(-10, 0, 30)\n",
    "# split data in k fold\n",
    "k_indices = build_k_indices(yb, k_fold, seed)\n",
    "# define lists to store the loss of training data and test data\n",
    "rmse_tr = []\n",
    "rmse_te = []\n",
    "for ind, lambda_ in enumerate(lambdas):\n",
    "    rmse_tr_k=[]\n",
    "    rmse_te_k=[]\n",
    "    for k in range(k_fold):\n",
    "        loss_tr,loss_te=cross_validation(yb,x,k_indices,k,lambda_,degree)\n",
    "            \n",
    "        rmse_tr_k.append(np.power(2*loss_tr,(1/2)))\n",
    "        rmse_te_k.append(np.power(2*loss_te,(1/2)))\n",
    "    rmse_tr.append(np.mean(rmse_tr_k))\n",
    "    rmse_te.append(np.mean(rmse_te_k))\n",
    "    \n",
    "rmse_tr_var=np.var(rmse_tr)\n",
    "rmse_te_var=np.var(rmse_te)\n",
    "\n",
    "cross_validation_visualization(lambdas, rmse_tr, rmse_te)\n",
    "\n"
   ]
  },
  {
   "cell_type": "markdown",
   "metadata": {},
   "source": [
    "#### Apply crossvalidation and use mean of weights to predict. We get 0.77457, which is just under least squares. 0.74462 with least squares crossvalidation instead of ridge regression"
   ]
  },
  {
   "cell_type": "code",
   "execution_count": 139,
   "metadata": {
    "collapsed": true
   },
   "outputs": [],
   "source": [
    "seed = 1\n",
    "degree = 7\n",
    "k_fold = 4\n",
    "lambda_=0.000001\n",
    "# split data in k fold\n",
    "k_indices = build_k_indices(yb, k_fold, seed)\n",
    "# define lists to store the loss of training data and test data\n",
    "w=np.zeros((k_fold,x.shape[1]))\n",
    "w_mean=[]\n",
    "for k in range(k_fold):\n",
    "    loss_tr,loss_te,w_tr=cross_validation(yb,x,k_indices,k,lambda_,degree)\n",
    "    w[k]=w_tr\n",
    "for i in range(x.shape[1]):\n",
    "    w_mean.append(np.mean(w[:,i]))"
   ]
  },
  {
   "cell_type": "code",
   "execution_count": 140,
   "metadata": {
    "collapsed": true
   },
   "outputs": [],
   "source": [
    "y_pred = predict_labels(w_mean, x_te)\n",
    "create_csv_submission(ids_te, y_pred, 'prediction')"
   ]
  },
  {
   "cell_type": "code",
   "execution_count": 141,
   "metadata": {},
   "outputs": [
    {
     "data": {
      "text/plain": [
       "[8.0429274851669106e-05,\n",
       " -0.0072030400895869446,\n",
       " -0.0060542970289139807,\n",
       " -0.00054634773281069448,\n",
       " -0.019410377480225088,\n",
       " 0.00047359787740854445,\n",
       " -0.026033739980262826,\n",
       " 0.32513472098153307,\n",
       " -2.9907741239116981e-05,\n",
       " -2.7334601959442315,\n",
       " -0.22122622607813397,\n",
       " 0.095048662440013393,\n",
       " 0.064047988495318356,\n",
       " 2.7417211302684854,\n",
       " -0.00032804766463101167,\n",
       " -0.0009571642355646671,\n",
       " 2.7464783226284122,\n",
       " -0.00054054420213574489,\n",
       " 0.00096783421546510874,\n",
       " 0.0036961551550065887,\n",
       " 0.00035469523181780408,\n",
       " -0.00054428392224538326,\n",
       " -0.33055516613254676,\n",
       " -0.0014080809320606835,\n",
       " 0.00083255581854976021,\n",
       " 0.0010203037153731214,\n",
       " -0.0016776383078250376,\n",
       " -0.0058336075465831288,\n",
       " -0.011108823248197956,\n",
       " 2.7339183722597049]"
      ]
     },
     "execution_count": 141,
     "metadata": {},
     "output_type": "execute_result"
    }
   ],
   "source": [
    "w_mean"
   ]
  },
  {
   "cell_type": "markdown",
   "metadata": {
    "collapsed": true
   },
   "source": [
    "# Ridge regression (bad prediction used just like this)"
   ]
  },
  {
   "cell_type": "code",
   "execution_count": 14,
   "metadata": {},
   "outputs": [
    {
     "name": "stdout",
     "output_type": "stream",
     "text": [
      "degree=1, lambda=0.000, Training RMSE=0.824, Testing RMSE=1.395\n",
      "degree=1, lambda=0.000, Training RMSE=0.824, Testing RMSE=1.395\n",
      "degree=1, lambda=0.001, Training RMSE=0.824, Testing RMSE=1.394\n",
      "degree=1, lambda=0.016, Training RMSE=0.825, Testing RMSE=1.389\n",
      "degree=1, lambda=0.193, Training RMSE=0.835, Testing RMSE=1.380\n",
      "degree=1, lambda=2.276, Training RMSE=0.843, Testing RMSE=1.377\n",
      "degree=1, lambda=26.827, Training RMSE=0.846, Testing RMSE=1.372\n",
      "degree=1, lambda=316.228, Training RMSE=0.859, Testing RMSE=1.351\n",
      "degree=1, lambda=3727.594, Training RMSE=0.892, Testing RMSE=1.326\n",
      "degree=1, lambda=43939.706, Training RMSE=0.913, Testing RMSE=1.300\n",
      "degree=1, lambda=517947.468, Training RMSE=0.933, Testing RMSE=1.252\n",
      "degree=1, lambda=6105402.297, Training RMSE=0.966, Testing RMSE=1.093\n",
      "degree=1, lambda=71968567.300, Training RMSE=0.995, Testing RMSE=1.011\n",
      "degree=1, lambda=848342898.244, Training RMSE=1.000, Testing RMSE=1.001\n",
      "degree=1, lambda=10000000000.000, Training RMSE=1.000, Testing RMSE=1.000\n"
     ]
    },
    {
     "data": {
      "image/png": "[encoded data removed]",
      "text/plain": [
       "<matplotlib.figure.Figure at 0x15fc6b438>"
      ]
     },
     "metadata": {},
     "output_type": "display_data"
    }
   ],
   "source": [
    "lambdas = np.logspace(-5, 10, 15)    \n",
    "#x_tr_poly=build_poly(input_data,degree)                  #build poly base for both training and test x data\n",
    "#x_poly=build_poly(x,degree)\n",
    "#x_te_poly=build_poly(te_data,degree)    \n",
    "degree=1\n",
    "rmse_tr = []\n",
    "rmse_te = []\n",
    "for ind, lambda_ in enumerate(lambdas):\n",
    "    weights_train,loss_mse_train=ridge_regression(yb,x,lambda_)     # ridge regression for training data\n",
    "    #print(y_test.shape)\n",
    "    #loss_mse_train=compute_mse_regularization(y_train,x_train_poly,weights_train,lambda_) #find mse for training data\n",
    "    #print((2*loss_mse_train)**(1/2))\n",
    "    loss_mse_test=compute_mse(yb_te,x_te,weights_train)    #mse for test data using ls weight of training data\n",
    "    rmse_tr.append(np.power(2*loss_mse_train,(1/2)))\n",
    "    rmse_te.append(np.power(2*loss_mse_test,(1/2)))\n",
    "    print(\"degree={d}, lambda={l:.3f}, Training RMSE={tr:.3f}, Testing RMSE={te:.3f}\".format(\n",
    "        d=degree, l=lambda_, tr=rmse_tr[ind], te=rmse_te[ind]))\n",
    "        \n",
    "# Plot the obtained results\n",
    "plot_train_test(rmse_tr, rmse_te, lambdas, degree)"
   ]
  },
  {
   "cell_type": "code",
   "execution_count": null,
   "metadata": {
    "collapsed": true
   },
   "outputs": [],
   "source": []
  }
 ],
 "metadata": {
  "kernelspec": {
   "display_name": "Python 3",
   "language": "python",
   "name": "python3"
  },
  "language_info": {
   "codemirror_mode": {
    "name": "ipython",
    "version": 3
   },
   "file_extension": ".py",
   "mimetype": "text/x-python",
   "name": "python",
   "nbconvert_exporter": "python",
   "pygments_lexer": "ipython3",
   "version": "3.6.1"
  }
 },
 "nbformat": 4,
 "nbformat_minor": 2
}
